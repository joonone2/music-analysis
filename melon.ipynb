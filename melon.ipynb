{
  "cells": [
    {
      "cell_type": "markdown",
      "metadata": {
        "id": "2dkORmKXQPNw"
      },
      "source": [
        "## **멜론 차트**에서 연도별로 상위 50곡의 **가사**를 크롤링하고, 각 곡에 대해 **감정 분석**을 수행하여 **연도별 감정 점수**를 시각화\n",
        "\n",
        "1. **웹 크롤링**:\n",
        "   - 멜론 차트에서 2018년부터 2023년까지의 **연도별 상위 50곡** 정보를 크롤링합니다.\n",
        "   - 각 곡의 **곡명**, **가수**, **곡 ID**, **가사**를 추출하여 데이터를 수집합니다.\n",
        "   - 곡 ID를 기반으로 **곡 상세 페이지**에 요청을 보내고, 해당 페이지에서 가사를 크롤링합니다.\n",
        "\n",
        "2. **감정 분석**:\n",
        "   - 수집한 **가사**를 기반으로, **TextBlob** 라이브러리를 사용해 **감정 점수**를 계산합니다.\n",
        "   - 각 곡의 가사를 하나의 문자열로 합친 뒤 **sentiment.polarity** 값을 이용해 감정 점수를 계산하고, 이를 DataFrame에 **sentiment_score** 컬럼으로 추가합니다.\n",
        "\n",
        "3. **연도별 평균 감정 점수 계산**:\n",
        "   - 각 연도별로 감정 점수의 **평균**을 계산하고, 이를 **avg_sentiment_df**라는 DataFrame에 저장합니다.\n",
        "\n",
        "4. **시각화**:\n",
        "   - **Seaborn**과 **Matplotlib**를 사용하여 연도별 **평균 감정 점수**를 **라인 그래프**로 시각화합니다.\n",
        "\n",
        "5. **특이사항**:\n",
        "   - 2019년의 감정 점수가 상대적으로 낮은 이유는 **사재기 논란**과 관련이 있습니다. 해당 연도의 차트 상위 곡들은 대체로 **슬픈 발라드**곡들이었고, 그로 인해 감정 분석에서 **부정적인 점수**가 많이 나왔습니다.\n"
      ]
    },
    {
      "cell_type": "markdown",
      "source": [
        "### **1.웹 크롤링**  \n",
        "\n",
        "멜론 사이트는 **동적 사이트**가 아닌 **정적 사이트**로, 데이터를 JSON 형태로 요청하는 것이 아니라 HTML 파일을 다시 받아오는 방식으로 정보를 업데이트합니다. 이 때문에 **BeautifulSoup**을 이용하여 HTML 데이터를 파싱하고 필요한 정보를 추출해야 합니다.\n",
        "\n",
        "\n"
      ],
      "metadata": {
        "id": "zSSnYhUoQ8mY"
      }
    },
    {
      "cell_type": "code",
      "execution_count": null,
      "metadata": {
        "id": "c402-wGTQPNx"
      },
      "outputs": [],
      "source": [
        "import pandas as pd\n",
        "import requests\n",
        "import re\n",
        "from bs4 import BeautifulSoup\n"
      ]
    },
    {
      "cell_type": "markdown",
      "metadata": {
        "id": "gtsk51zJQPN1"
      },
      "source": [
        "#### **2018년부터 2023년까지의 연도별 멜론 차트 Top 50 데이터를 가사와 함께 반복해서 크롤링**"
      ]
    },
    {
      "cell_type": "code",
      "execution_count": null,
      "metadata": {
        "id": "BkAzA7ybQPN1"
      },
      "outputs": [],
      "source": [
        "url = 'https://www.melon.com/chart/age/list.htm'\n",
        "headers = {\n",
        "    'User-Agent': ('Mozilla/5.0 (Windows NT 10.0; Win64; x64) AppleWebKit/537.36 '\n",
        "                   '(KHTML, like Gecko) Chrome/68.0.3440.75 Safari/537.36')\n",
        "}\n",
        "\n",
        "# 연도 리스트 (2018부터 2023까지)\n",
        "years = [str(year) for year in range(2018, 2024)]\n",
        "\n"
      ]
    },
    {
      "cell_type": "markdown",
      "source": [
        "#### **About URL, header, Params**\n",
        "\n",
        "1. **URL**:  \n",
        "   `url` 변수는 멜론 차트 페이지의 주소로, 연도별 차트를 조회하는 페이지를 지정합니다.\n",
        "\n",
        "2. **헤더**:  \n",
        "   `headers`는 요청 헤더로, 웹 브라우저와 유사한 `User-Agent` 값을 사용하여 서버에서 요청을 정상적으로 처리하도록 합니다.\n",
        "\n",
        "3. **파라미터**:  \n",
        "   `params` 딕셔너리는 URL에 추가될 쿼리 파라미터를 정의합니다.  \n",
        "   - `idx`: 요청하는 차트의 구분 값으로 '1'은 기본 차트를 의미합니다.  \n",
        "   - `chartType`: `'YE'`는 연도별 차트를 요청한다는 뜻입니다.  \n",
        "   - `chartGenre`: `'KPOP'`은 장르를 한국 가요로 설정합니다.  \n",
        "   - `chartDate`: `'2023'`은 2023년 차트를 요청한다는 의미입니다.  \n",
        "   - `moved`: `'Y'`는 데이터를 이동시켜 최신 순으로 정렬합니다."
      ],
      "metadata": {
        "id": "ZeXovxPDYm7C"
      }
    },
    {
      "cell_type": "markdown",
      "source": [
        "\n",
        "\n",
        "---\n",
        "\n",
        "**BeautifulSoup을 사용한 HTML 파싱**  \n",
        "- `BeautifulSoup`을 사용하여 멜론 차트 페이지의 HTML을 파싱합니다.  \n",
        "- `select('.lst50')`는 **.lst50** 클래스를 가진 모든 HTML 요소를 찾아 리스트로 반환합니다. 이 클래스는 Top 50 곡들의 정보를 포함하는 요소입니다.\n",
        "\n",
        "**DataFrame 준비**  \n",
        "- `columns` 리스트를 정의하여 DataFrame의 열 이름을 설정합니다.  \n",
        "- `kpop_2023` DataFrame을 준비합니다. 이 DataFrame에는 각 곡의 제목(title), 가수(singer), 가사(lyric) 정보가 담길 것입니다.\n",
        "\n",
        "**각 곡에 대한 정보 추출**  \n",
        "- `for element in elements:`는 `.lst50` 클래스를 가진 각 곡에 대해 반복합니다.  \n",
        "- 곡의 ID를 추출하는 부분입니다. `select('a[onclick*=SongDetail]')`를 통해 곡의 상세 페이지로 이동하는 링크를 찾고, 정규 표현식을 사용해 곡 ID를 추출합니다.  \n",
        "- 추출한 곡 ID를 이용하여 곡의 상세 페이지 URL을 생성합니다.\n",
        "\n",
        "**곡의 가사 추출**  \n",
        "- `requests.get()`을 사용하여 곡의 상세 페이지로 요청을 보냅니다.  \n",
        "- 곡의 가사를 포함하는 `.lyric` 클래스를 선택하고, `<br/>` 태그를 기준으로 가사를 분리합니다.  \n",
        "- 가사에 불필요한 빈 항목을 제거하여 **lyrics** 리스트를 만듭니다.\n",
        "\n",
        "**곡명과 가수 추출**  \n",
        "- 곡명은 `.rank01` 클래스를 통해 추출하고, 가수는 `.rank02 > a`를 통해 추출합니다.  \n",
        "- `.text.strip()`을 사용하여 불필요한 공백을 제거합니다.\n",
        "\n",
        "**데이터 저장**  \n",
        "- 추출한 곡명, 가수, 곡 ID, 가사를 하나의 딕셔너리로 저장합니다.  \n",
        "- 이 딕셔너리를 `kpop_50` 리스트에 추가합니다."
      ],
      "metadata": {
        "id": "TeAK4bfrT9di"
      }
    },
    {
      "cell_type": "code",
      "execution_count": null,
      "metadata": {
        "colab": {
          "base_uri": "https://localhost:8080/"
        },
        "id": "wDZZ0p1BQPN1",
        "outputId": "cbf7c592-69d0-44dc-badc-f53057eb8401"
      },
      "outputs": [
        {
          "output_type": "stream",
          "name": "stdout",
          "text": [
            "Processing data for 2018\n",
            "Number of items collected for 2018: 50\n",
            "Data for 2018 collected:\n",
            "                               song_name           singer   song_id  \\\n",
            "0                 사랑을 했다 (LOVE SCENARIO)             iKON  30859584   \n",
            "1                                   그날처럼              장덕철  30755375   \n",
            "2  모든 날, 모든 순간 (Every day, Every Moment)               폴킴  30962526   \n",
            "3                                   지나오다         닐로(Nilo)  30699142   \n",
            "4                                     뿜뿜  모모랜드 (MOMOLAND)  30816860   \n",
            "\n",
            "                                              lyrics  \n",
            "0  [지우지 못할 추억이 됐다 , 볼만한 멜로드라마 , 괜찮은 결말 , 그거면 됐다 널...  \n",
            "1  [넌 어떻게 사는지 참 궁금해, 날 걱정하는 사람들에게, 다 잊었단 거짓말하는 내가...  \n",
            "2  [생각만 해도 눈물이나, 힘든 시간 날 지켜준 사람, 이제는 내가 그댈 지킬 테니,...  \n",
            "3  [여전히 내 하루는 온통 네 생각에, 뜬 눈으로 밤을 지새고, 난 두려워 시간이 쌓...  \n",
            "4  [랑데뷰, 내 마음을 들었다 놨다 해 맘대루 , 맘대루, 지금 내 눈엔 눈엔 눈엔,...  \n",
            "Shape of 2018 data: (50, 4)\n",
            "\n",
            "Processing data for 2019\n",
            "Number of items collected for 2019: 50\n",
            "Data for 2019 collected:\n",
            "                                   song_name               singer   song_id  \\\n",
            "0                  사랑에 연습이 있었다면 (Prod. 2soo)                  임재현  31324607   \n",
            "1                                    그때가 좋았어          케이시 (Kassy)  31524320   \n",
            "2  작은 것들을 위한 시 (Boy With Luv) (Feat. Halsey)                방탄소년단  31737197   \n",
            "3                                       넘쳐흘러  엠씨더맥스 (M.C the MAX)  31532643   \n",
            "4      모든 날, 모든 순간 (Every day, Every Moment)                   폴킴  30962526   \n",
            "\n",
            "                                              lyrics  \n",
            "0  [우리는 달라졌을까 , 내가 널 만난 시간 혹은 그 장소 , 상황이 달랐었다면 , ...  \n",
            "1  [작은 설렘조차 욕심이겠지, 항상 곁에 있어서, 계속 함께 있을 줄 알았나 봐, 음...  \n",
            "2  [How’s your day, Oh tell me, 뭐가 널 행복하게 하는지, Oh...  \n",
            "3  [우리 사랑을 놓아요, 차오르는 추억을 헝클어뜨려, 모두 일어나지 않았던 일처럼, ...  \n",
            "4  [생각만 해도 눈물이나, 힘든 시간 날 지켜준 사람, 이제는 내가 그댈 지킬 테니,...  \n",
            "Shape of 2019 data: (50, 4)\n",
            "\n",
            "Processing data for 2020\n",
            "Number of items collected for 2020: 50\n",
            "Data for 2020 collected:\n",
            "                     song_name        singer   song_id  \\\n",
            "0                         아무노래     지코 (ZICO)  32313543   \n",
            "1                       METEOR  창모 (CHANGMO)  32224272   \n",
            "2                          아로하           조정석  32491274   \n",
            "3     흔들리는 꽃들 속에서 네 샴푸향이 느껴진거야           장범준  32003395   \n",
            "4  에잇(Prod.&Feat. SUGA of BTS)           아이유  32578498   \n",
            "\n",
            "                                              lyrics  \n",
            "0  [뭐가 문제야 say something, 분위기가 겁나 싸해, 요새는 이런 게 유행...  \n",
            "1  [Yeah ha, Yeah ha, Yeah ha, Yeah ha, Yeah ha, ...  \n",
            "2  [와인 잔에 담긴 약속하나, 항상 너의 곁에서 널 지켜줄거야, 날 믿어준 너였잖아,...  \n",
            "3  [네 샴푸향이 느껴진거야, 스쳐지나간건가 뒤돌아보지만, 그냥 사람들만 보이는거야, ...  \n",
            "4  [Finally happy now are you, 뭐 그대로야 난 , 다 잃어버린 ...  \n",
            "Shape of 2020 data: (50, 4)\n",
            "\n",
            "Processing data for 2021\n",
            "Number of items collected for 2021: 50\n",
            "Data for 2021 collected:\n",
            "      song_name  singer   song_id  \\\n",
            "0     Celebrity     아이유  33239419   \n",
            "1  롤린 (Rollin')  브레이브걸스  30287019   \n",
            "2      Dynamite   방탄소년단  32872978   \n",
            "3    Next Level   aespa  33487342   \n",
            "4           라일락     아이유  33372781   \n",
            "\n",
            "                                              lyrics  \n",
            "0  [구부정하게 커버린, 골칫거리 outsider, 걸음걸이, 옷차림, , 이어폰 너머...  \n",
            "1  [날 보며 환히 웃던 , 너의 미소에, 홀린 듯 , I'm fall in love,...  \n",
            "2  [I’m in the stars tonight, So watch me bring t...  \n",
            "3  [절대적 룰을 지켜, 내 손을 놓지 말아, 결속은 나의 무기, 광야로 걸어가, 알아...  \n",
            "4  [눈물이 고여도 꾹 참을래, 내 마음 한켠 비밀스런 오르골에 넣어두고서, 영원히 되...  \n",
            "Shape of 2021 data: (50, 4)\n",
            "\n",
            "Processing data for 2022\n",
            "Number of items collected for 2022: 50\n",
            "Data for 2022 collected:\n",
            "   song_name     singer   song_id  \\\n",
            "0  LOVE DIVE  IVE (아이브)  34847378   \n",
            "1     TOMBOY    (여자)아이들  34754292   \n",
            "2       취중고백        김민석  34431086   \n",
            "3     사랑인가 봐       멜로망스  34657844   \n",
            "4  사랑은 늘 도망가        임영웅  34061322   \n",
            "\n",
            "                                              lyrics  \n",
            "0  [이거면 충분해 쫓고 쫓는 이런 놀이, 참을 수 없는 이끌림과 호기심 , 묘한 너와...  \n",
            "1  [Ya took off hook, 기분은 Coke like brrr, Look at...  \n",
            "2  [잠시 나올래, 너의 집 골목에 있는, 놀이터에 앉아 있어, 친구들 만나서 오랜만에...  \n",
            "3  [상상하는 게, 요즘 내 일상이 되고, 너의 즐거워하는 모습을 보고 있으면, 자연스...  \n",
            "4  [그 사람 손길이 자꾸 생각이 난다, 붙잡지 못하고 가슴만 떨었지, 내 아름답던 사...  \n",
            "Shape of 2022 data: (50, 4)\n",
            "\n",
            "Processing data for 2023\n",
            "Number of items collected for 2023: 50\n",
            "Data for 2023 collected:\n",
            "  song_name       singer   song_id  \\\n",
            "0     Ditto     NewJeans  35945927   \n",
            "1  Hype Boy     NewJeans  35454426   \n",
            "2      I AM    IVE (아이브)  36356993   \n",
            "3       OMG     NewJeans  35985167   \n",
            "4   사건의 지평선  윤하 (YOUNHA)  34819473   \n",
            "\n",
            "                                              lyrics  \n",
            "0  [Woo woo woo woo, Stay in the middle, Like you...  \n",
            "1  [Baby, got me looking so crazy, 빠져버리는 daydream...  \n",
            "2  [넌 너의 길로 난 나의 길로 음, 하루하루마다 색이 달라진 느낌, 밝게 빛이 나는...  \n",
            "3  [Only you, You you you, You you you you, 내가 힘들...  \n",
            "4  [당연히 해야 할 일이야, 나에겐 우리가 지금 1순위야, 안전한 유리병을 핑계로, ...  \n",
            "Shape of 2023 data: (50, 4)\n",
            "\n"
          ]
        }
      ],
      "source": [
        "# 연도별 데이터프레임을 저장할 딕셔너리\n",
        "dataframes = {}\n",
        "\n",
        "# 각 연도에 대해 크롤링 진행\n",
        "for year in years:\n",
        "    print(f\"Processing data for {year}\")\n",
        "\n",
        "    # URL 파라미터 설정\n",
        "    params = {\n",
        "        'idx': '1',\n",
        "        'chartType': 'YE',  # 10년 단위로 검색하는 부분과 연관\n",
        "        'chartGenre': 'KPOP',  # 가요검색: KPOP\n",
        "        'chartDate': year,   # 검색연도\n",
        "        'moved': 'Y',\n",
        "    }\n",
        "\n",
        "    # 요청 보내고 BeautifulSoup로 파싱\n",
        "    response = requests.get(url, params=params, headers=headers)\n",
        "    dom_list = BeautifulSoup(response.text, 'html.parser')\n",
        "    elements = dom_list.select('.lst50')  # lst50 클래스를 가진 element 전부를 List로 리턴\n",
        "\n",
        "    # 각 연도에 대한 데이터프레임 초기화\n",
        "    kpop_data = []\n",
        "\n",
        "    # 각 곡에 대해 데이터 수집\n",
        "    for element in elements:\n",
        "        # 곡 ID 추출\n",
        "        song_id_html = str(element.select('a[onclick*=SongDetail]'))\n",
        "        matched = re.search(r\"\\'(\\d+)\\'\", song_id_html)\n",
        "        song_id = matched.group(1) if matched else None\n",
        "        song_url = f'https://www.melon.com/song/detail.htm?songId={song_id}'\n",
        "\n",
        "        # 곡 정보 페이지로 요청하여 가사 추출\n",
        "        song_response = requests.get(song_url, headers=headers)\n",
        "        song_soup = BeautifulSoup(song_response.text, 'html.parser')\n",
        "\n",
        "        lyric = song_soup.select('.lyric')[0]\n",
        "        lyrics = str(lyric).split('<br/>')[1:-1]\n",
        "        lyrics = [i for i in lyrics if i ]\n",
        "\n",
        "        # 곡명, 아티스트 추출\n",
        "        song_name = element.select_one('.rank01').text.strip()\n",
        "        singer = element.select_one('.rank02 > a').text.strip()\n",
        "\n",
        "        # 데이터 저장\n",
        "        data = {\n",
        "            'song_name': song_name,\n",
        "            'singer': singer,\n",
        "            'song_id': song_id,\n",
        "            'lyrics': lyrics\n",
        "        }\n",
        "        kpop_data.append(data)\n",
        "\n",
        "    print(f\"Number of items collected for {year}: {len(kpop_data)}\")\n",
        "\n",
        "    # 각 연도에 대한 DataFrame 생성\n",
        "    df = pd.DataFrame(kpop_data)\n",
        "\n",
        "    # 딕셔너리에 연도별 DataFrame 저장\n",
        "    dataframes[year] = df\n",
        "\n",
        "    # 각 연도의 데이터프레임 확인\n",
        "    print(f\"Data for {year} collected:\")\n",
        "    print(df.head())\n",
        "    print(f\"Shape of {year} data: {df.shape}\\n\")"
      ]
    },
    {
      "cell_type": "code",
      "execution_count": null,
      "metadata": {
        "colab": {
          "base_uri": "https://localhost:8080/"
        },
        "id": "Ly931xtAQPN1",
        "outputId": "9e165000-b09a-4ff5-e043-6d7fae978443"
      },
      "outputs": [
        {
          "output_type": "stream",
          "name": "stdout",
          "text": [
            "Number of items in dataframes: 6\n"
          ]
        }
      ],
      "source": [
        "print(f\"Number of items in dataframes: {len(dataframes)}\")\n"
      ]
    },
    {
      "cell_type": "markdown",
      "source": [
        "## **감정분석**"
      ],
      "metadata": {
        "id": "ongMduv2afSC"
      }
    },
    {
      "cell_type": "markdown",
      "source": [
        "**각 연도의 곡 가사에 대해 감정 분석을 수행하고, 감정 점수를 계산하여 각 DataFrame에 추가  \n",
        "\n",
        "각 가사의 감정 점수는 `TextBlob`을 사용해 계산되며, 결과는 `'sentiment_score'` 컬럼에 저장됩니다.**"
      ],
      "metadata": {
        "id": "nWC42XUeaTmd"
      }
    },
    {
      "cell_type": "code",
      "execution_count": null,
      "metadata": {
        "colab": {
          "base_uri": "https://localhost:8080/"
        },
        "id": "hTfzd1RsQPN2",
        "outputId": "cf5719bd-80f5-44e1-e9ae-c8d25b046a25"
      },
      "outputs": [
        {
          "output_type": "stream",
          "name": "stdout",
          "text": [
            "Processing sentiment analysis for 2018\n",
            "Sentiment analysis complete for 2018\n",
            "                               song_name  sentiment_score\n",
            "0                 사랑을 했다 (LOVE SCENARIO)         0.500000\n",
            "1                                   그날처럼         0.000000\n",
            "2  모든 날, 모든 순간 (Every day, Every Moment)         0.000000\n",
            "3                                   지나오다         0.000000\n",
            "4                                     뿜뿜         0.233333\n",
            "Shape of 2018 data after adding sentiment score: (50, 5)\n",
            "\n",
            "Processing sentiment analysis for 2019\n",
            "Sentiment analysis complete for 2019\n",
            "                                   song_name  sentiment_score\n",
            "0                  사랑에 연습이 있었다면 (Prod. 2soo)         0.000000\n",
            "1                                    그때가 좋았어         0.000000\n",
            "2  작은 것들을 위한 시 (Boy With Luv) (Feat. Halsey)         0.435952\n",
            "3                                       넘쳐흘러         0.000000\n",
            "4      모든 날, 모든 순간 (Every day, Every Moment)         0.000000\n",
            "Shape of 2019 data after adding sentiment score: (50, 5)\n",
            "\n",
            "Processing sentiment analysis for 2020\n",
            "Sentiment analysis complete for 2020\n",
            "                     song_name  sentiment_score\n",
            "0                         아무노래        -0.321758\n",
            "1                       METEOR         0.280000\n",
            "2                          아로하         0.425000\n",
            "3     흔들리는 꽃들 속에서 네 샴푸향이 느껴진거야         0.000000\n",
            "4  에잇(Prod.&Feat. SUGA of BTS)         0.216667\n",
            "Shape of 2020 data after adding sentiment score: (50, 5)\n",
            "\n",
            "Processing sentiment analysis for 2021\n",
            "Sentiment analysis complete for 2021\n",
            "      song_name  sentiment_score\n",
            "0     Celebrity        -0.012500\n",
            "1  롤린 (Rollin')         0.058333\n",
            "2      Dynamite         0.152885\n",
            "3    Next Level         0.036310\n",
            "4           라일락         0.394444\n",
            "Shape of 2021 data after adding sentiment score: (50, 5)\n",
            "\n",
            "Processing sentiment analysis for 2022\n",
            "Sentiment analysis complete for 2022\n",
            "   song_name  sentiment_score\n",
            "0  LOVE DIVE         0.475000\n",
            "1     TOMBOY         0.189732\n",
            "2       취중고백         0.000000\n",
            "3     사랑인가 봐         0.000000\n",
            "4  사랑은 늘 도망가         0.000000\n",
            "Shape of 2022 data after adding sentiment score: (50, 5)\n",
            "\n",
            "Processing sentiment analysis for 2023\n",
            "Sentiment analysis complete for 2023\n",
            "  song_name  sentiment_score\n",
            "0     Ditto        -0.051136\n",
            "1  Hype Boy         0.004143\n",
            "2      I AM         0.165000\n",
            "3       OMG         0.133929\n",
            "4   사건의 지평선         0.000000\n",
            "Shape of 2023 data after adding sentiment score: (50, 5)\n",
            "\n",
            "\n",
            "2018 DataFrame with sentiment scores:\n",
            "                               song_name  sentiment_score\n",
            "0                 사랑을 했다 (LOVE SCENARIO)         0.500000\n",
            "1                                   그날처럼         0.000000\n",
            "2  모든 날, 모든 순간 (Every day, Every Moment)         0.000000\n",
            "3                                   지나오다         0.000000\n",
            "4                                     뿜뿜         0.233333\n",
            "\n",
            "2019 DataFrame with sentiment scores:\n",
            "                                   song_name  sentiment_score\n",
            "0                  사랑에 연습이 있었다면 (Prod. 2soo)         0.000000\n",
            "1                                    그때가 좋았어         0.000000\n",
            "2  작은 것들을 위한 시 (Boy With Luv) (Feat. Halsey)         0.435952\n",
            "3                                       넘쳐흘러         0.000000\n",
            "4      모든 날, 모든 순간 (Every day, Every Moment)         0.000000\n",
            "\n",
            "2020 DataFrame with sentiment scores:\n",
            "                     song_name  sentiment_score\n",
            "0                         아무노래        -0.321758\n",
            "1                       METEOR         0.280000\n",
            "2                          아로하         0.425000\n",
            "3     흔들리는 꽃들 속에서 네 샴푸향이 느껴진거야         0.000000\n",
            "4  에잇(Prod.&Feat. SUGA of BTS)         0.216667\n",
            "\n",
            "2021 DataFrame with sentiment scores:\n",
            "      song_name  sentiment_score\n",
            "0     Celebrity        -0.012500\n",
            "1  롤린 (Rollin')         0.058333\n",
            "2      Dynamite         0.152885\n",
            "3    Next Level         0.036310\n",
            "4           라일락         0.394444\n",
            "\n",
            "2022 DataFrame with sentiment scores:\n",
            "   song_name  sentiment_score\n",
            "0  LOVE DIVE         0.475000\n",
            "1     TOMBOY         0.189732\n",
            "2       취중고백         0.000000\n",
            "3     사랑인가 봐         0.000000\n",
            "4  사랑은 늘 도망가         0.000000\n",
            "\n",
            "2023 DataFrame with sentiment scores:\n",
            "  song_name  sentiment_score\n",
            "0     Ditto        -0.051136\n",
            "1  Hype Boy         0.004143\n",
            "2      I AM         0.165000\n",
            "3       OMG         0.133929\n",
            "4   사건의 지평선         0.000000\n"
          ]
        }
      ],
      "source": [
        "from textblob import TextBlob\n",
        "\n",
        "# 각 연도에 대해 이미 존재하는 dataframes에서 감정 분석 수행\n",
        "for year, df in dataframes.items():\n",
        "    print(f\"Processing sentiment analysis for {year}\")\n",
        "\n",
        "    # 가사 컬럼이 비어있지 않은 경우에만 분석\n",
        "    if 'lyrics' in df.columns:\n",
        "        sentiment_scores = []\n",
        "\n",
        "        # 각 곡에 대해 감정 분석\n",
        "        for lyrics in df['lyrics']:\n",
        "            lyric_text = ' '.join(lyrics)  # 가사를 하나의 문자열로 합침\n",
        "            blob = TextBlob(lyric_text)\n",
        "            sentiment_score = blob.sentiment.polarity  # 감정 점수 (polarity 값)\n",
        "            sentiment_scores.append(sentiment_score)\n",
        "\n",
        "        # 감정 점수 컬럼 추가\n",
        "        df['sentiment_score'] = sentiment_scores\n",
        "        dataframes[year] = df  # 딕셔너리에 업데이트\n",
        "\n",
        "        # 결과 출력\n",
        "        print(f\"Sentiment analysis complete for {year}\")\n",
        "        print(df[['song_name', 'sentiment_score']].head())\n",
        "        print(f\"Shape of {year} data after adding sentiment score: {df.shape}\\n\")\n",
        "\n",
        "# 모든 연도의 감정 분석 결과 출력\n",
        "for year, df in dataframes.items():\n",
        "    print(f\"\\n{year} DataFrame with sentiment scores:\")\n",
        "    print(df[['song_name', 'sentiment_score']].head())\n"
      ]
    },
    {
      "cell_type": "markdown",
      "metadata": {
        "id": "2_KOpbYVQPN2"
      },
      "source": [
        "### **각 연도별로 감정 점수의 평균을 계산하여 데이터프레임으로 저장**"
      ]
    },
    {
      "cell_type": "code",
      "execution_count": null,
      "metadata": {
        "id": "jGW9J4kTQPN2"
      },
      "outputs": [],
      "source": [
        "# 각 연도별 감정 점수 평균을 구할 리스트\n",
        "avg_sentiment_scores = []\n",
        "\n",
        "# 각 연도의 DataFrame에서 평균 감정 점수 계산\n",
        "for year, df in dataframes.items():\n",
        "    avg_score = df['sentiment_score'].mean()  # 감정 점수 평균 계산\n",
        "    avg_sentiment_scores.append((year, avg_score))\n",
        "\n",
        "# DataFrame으로 변환\n",
        "avg_sentiment_df = pd.DataFrame(avg_sentiment_scores, columns=['Year', 'Average Sentiment'])\n"
      ]
    },
    {
      "cell_type": "markdown",
      "metadata": {
        "id": "1pTnWqn7QPN2"
      },
      "source": [
        "**각 연도별 감정점수의 평균**"
      ]
    },
    {
      "cell_type": "code",
      "execution_count": null,
      "metadata": {
        "colab": {
          "base_uri": "https://localhost:8080/"
        },
        "id": "yvPxnqYDQPN2",
        "outputId": "57e6727e-f525-46d1-c40a-12095877e40c"
      },
      "outputs": [
        {
          "output_type": "stream",
          "name": "stdout",
          "text": [
            "   Year  Average Sentiment\n",
            "0  2018           0.123921\n",
            "1  2019           0.072234\n",
            "2  2020           0.118092\n",
            "3  2021           0.108588\n",
            "4  2022           0.112324\n",
            "5  2023           0.126747\n"
          ]
        }
      ],
      "source": [
        "# 평균 감정 점수 출력\n",
        "print(avg_sentiment_df)"
      ]
    },
    {
      "cell_type": "code",
      "source": [
        "# CSV 파일로 저장\n",
        "avg_sentiment_df.to_csv('avg_sentiment_by_year.csv', index=False)"
      ],
      "metadata": {
        "id": "T4n2k2z5ejOm"
      },
      "execution_count": null,
      "outputs": []
    },
    {
      "cell_type": "markdown",
      "source": [
        "## **시각화**"
      ],
      "metadata": {
        "id": "3mG6Qvg4atIs"
      }
    },
    {
      "cell_type": "markdown",
      "source": [
        "**연도별 평균 감정 점수(Average Sentiment Score)**를 나타내는 **선 그래프(Line Plot)입니다.**\n"
      ],
      "metadata": {
        "id": "LkTN646zbHRv"
      }
    },
    {
      "cell_type": "code",
      "execution_count": 5,
      "metadata": {
        "colab": {
          "base_uri": "https://localhost:8080/",
          "height": 617
        },
        "id": "cGjIdACBQPN2",
        "outputId": "658330b7-f604-4e78-8ff4-26d5daed5abe"
      },
      "outputs": [
        {
          "output_type": "display_data",
          "data": {
            "image/png": "[encoded data removed]"
          },
          "metadata": {}
        }
      ],
      "source": [
        "import plotly.graph_objects as go\n",
        "\n",
        "# 시각화 (Line Plot)\n",
        "fig = go.Figure()\n",
        "\n",
        "# Line Plot 추가\n",
        "fig.add_trace(go.Scatter(\n",
        "    x=avg_sentiment_df['Year'],\n",
        "    y=avg_sentiment_df['Average Sentiment'],\n",
        "    mode='lines+markers',\n",
        "    line=dict(color='dodgerblue', width=3),\n",
        "    marker=dict(color='dodgerblue', size=8)\n",
        "))\n",
        "\n",
        "# 그래프 제목과 레이블 설정\n",
        "fig.update_layout(\n",
        "    title='연도별 감정 점수 추이',\n",
        "    xaxis_title='연도',\n",
        "    yaxis_title='Top 50 곡들의 감정 점수 평균',\n",
        "    title_font_size=18,\n",
        "    title_font=dict(family=\"NanumGothic\", size=18, color=\"black\"),\n",
        "    title_x=0.5,\n",
        "    xaxis_tickangle=45,\n",
        "    font=dict(family=\"NanumGothic\", size=12, color=\"black\"),\n",
        "    plot_bgcolor=\"white\",\n",
        "    paper_bgcolor=\"white\",\n",
        "    xaxis=dict(showgrid=True, gridwidth=1, gridcolor='lightgray'),\n",
        "    yaxis=dict(showgrid=True, gridwidth=1, gridcolor='lightgray'),\n",
        "    showlegend=False,  # 범례 제거\n",
        "    width=1024,\n",
        "    height=600\n",
        ")\n",
        "\n",
        "fig.show(renderer=\"png\")\n"
      ]
    },
    {
      "cell_type": "markdown",
      "source": [
        "### 2019년의 감정 점수가 낮았던 이유는 **사재기 논란**과 관련이 있다고 예상합니다. 사재기 의혹을 받았던 곡들은 대부분 **슬픈 발라드**곡들이었는데, 이 곡들은 감정적으로 **부정적인 감정**을 표현하기 때문에 감정 분석에서 **낮은 점수**를 받았습니다. 슬픈 발라드곡들은 **슬픔, 아픔, 이별** 등의 감정을 다루기 때문에, 그로 인해 **감정 점수**가 낮게 나오는 경향이 있었습니다. 따라서, 2019년 차트 상위권에 있던 사재기 곡들이 주로 슬픈 발라드였기 때문에 감정 점수가 낮았다고 예상합니다."
      ],
      "metadata": {
        "id": "VLm4lQIgb-Y5"
      }
    }
  ],
  "metadata": {
    "kernelspec": {
      "display_name": "pythonProject",
      "language": "python",
      "name": "python3"
    },
    "language_info": {
      "codemirror_mode": {
        "name": "ipython",
        "version": 3
      },
      "file_extension": ".py",
      "mimetype": "text/x-python",
      "name": "python",
      "nbconvert_exporter": "python",
      "pygments_lexer": "ipython3",
      "version": "3.11.8"
    },
    "colab": {
      "provenance": []
    }
  },
  "nbformat": 4,
  "nbformat_minor": 0
}