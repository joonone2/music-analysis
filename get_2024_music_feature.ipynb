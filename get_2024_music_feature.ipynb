{
  "cells": [
    {
      "cell_type": "markdown",
      "metadata": {
        "id": "jxzo4ux0NMws"
      },
      "source": [
        "## **2024년 발매된 1000곡의 특성 가져오기**"
      ]
    },
    {
      "cell_type": "markdown",
      "source": [
        "Spotify API를 사용해 플레이리스트를 분석하기 위한 초기 설정"
      ],
      "metadata": {
        "id": "YQNTZx8uQHsM"
      }
    },
    {
      "cell_type": "code",
      "execution_count": null,
      "metadata": {
        "id": "w9KtNueWNMws"
      },
      "outputs": [],
      "source": [
        "CLIENT_ID = ''\n",
        "CLIENT_SECRET = ''\n",
        "REDIRECT_URI = 'http://localhost:8888/callback'\n",
        "\n",
        "from spotify_analyzer import SpotifyPlaylistAnalyzer\n",
        "import pandas\n",
        "from spotipy.exceptions import SpotifyException\n",
        "import time\n",
        "\n",
        "\n"
      ]
    },
    {
      "cell_type": "markdown",
      "source": [
        "Spotify API 인증을 설정하고, 인증된 클라이언트를 통해 Spotify 데이터에 접근할 수 있는 객체 `sp`를 생성"
      ],
      "metadata": {
        "id": "P7dGpf1AQLnu"
      }
    },
    {
      "cell_type": "code",
      "execution_count": null,
      "metadata": {
        "id": "fOu8c5noNMwt"
      },
      "outputs": [],
      "source": [
        "import spotipy\n",
        "from spotipy.oauth2 import SpotifyClientCredentials\n",
        "client_credentials_manager = SpotifyClientCredentials(client_id=CLIENT_ID, client_secret=CLIENT_SECRET)\n",
        "sp = spotipy.Spotify(client_credentials_manager=client_credentials_manager)"
      ]
    },
    {
      "cell_type": "markdown",
      "metadata": {
        "id": "yC7lCCHtNMwt"
      },
      "source": [
        "2024년에 발표된 트랙의 아티스트, 제목, 아이디, 인기 등의 정보를 각각의 리스트에 저장하는 코드"
      ]
    },
    {
      "cell_type": "code",
      "execution_count": null,
      "metadata": {
        "id": "wxvtk4T8NMwu"
      },
      "outputs": [],
      "source": [
        "artist_name =[]\n",
        "track_name = []\n",
        "popularity =[]\n",
        "artist_id =[]\n",
        "track_id =[]\n",
        "for i in range(0,1000,50):\n",
        "    track_results = sp.search(q='year:2024', type='track', limit=50, offset=i)\n",
        "    for i, t in enumerate(track_results['tracks']['items']):\n",
        "        artist_name.append(t['artists'][0]['name'])\n",
        "        artist_id.append(t['artists'][0]['id'])\n",
        "        track_name.append(t['name'])\n",
        "        track_id.append(t['id'])\n",
        "        popularity.append(t['popularity'])"
      ]
    },
    {
      "cell_type": "markdown",
      "metadata": {
        "id": "fHm7d9lHNMwu"
      },
      "source": [
        "만들어진 리스트를 데이터프레임으로 변환"
      ]
    },
    {
      "cell_type": "code",
      "execution_count": null,
      "metadata": {
        "id": "27Mcbe4sNMwu",
        "outputId": "87a23ef7-4284-49e6-e3f2-6b1d85dad909"
      },
      "outputs": [
        {
          "name": "stdout",
          "output_type": "stream",
          "text": [
            "(1000, 5)\n"
          ]
        },
        {
          "data": {
            "text/html": [
              "<div>\n",
              "<style scoped>\n",
              "    .dataframe tbody tr th:only-of-type {\n",
              "        vertical-align: middle;\n",
              "    }\n",
              "\n",
              "    .dataframe tbody tr th {\n",
              "        vertical-align: top;\n",
              "    }\n",
              "\n",
              "    .dataframe thead th {\n",
              "        text-align: right;\n",
              "    }\n",
              "</style>\n",
              "<table border=\"1\" class=\"dataframe\">\n",
              "  <thead>\n",
              "    <tr style=\"text-align: right;\">\n",
              "      <th></th>\n",
              "      <th>artist_name</th>\n",
              "      <th>track_name</th>\n",
              "      <th>track_id</th>\n",
              "      <th>track_popularity</th>\n",
              "      <th>artist_id</th>\n",
              "    </tr>\n",
              "  </thead>\n",
              "  <tbody>\n",
              "    <tr>\n",
              "      <th>0</th>\n",
              "      <td>Jimin</td>\n",
              "      <td>Who</td>\n",
              "      <td>7tI8dRuH2Yc6RuoTjxo4dU</td>\n",
              "      <td>92</td>\n",
              "      <td>1oSPZhvZMIrWW5I41kPkkY</td>\n",
              "    </tr>\n",
              "    <tr>\n",
              "      <th>1</th>\n",
              "      <td>ROSÉ</td>\n",
              "      <td>APT.</td>\n",
              "      <td>2vDkR3ctidSd17d2CygVzS</td>\n",
              "      <td>65</td>\n",
              "      <td>3eVa5w3URK5duf6eyVDbu9</td>\n",
              "    </tr>\n",
              "    <tr>\n",
              "      <th>2</th>\n",
              "      <td>aespa</td>\n",
              "      <td>Whiplash</td>\n",
              "      <td>6uPnrBgweGOcwjFL4ItAvV</td>\n",
              "      <td>80</td>\n",
              "      <td>6YVMFz59CuY7ngCxTxjpxE</td>\n",
              "    </tr>\n",
              "    <tr>\n",
              "      <th>3</th>\n",
              "      <td>Lim Young Woong</td>\n",
              "      <td>Warmth</td>\n",
              "      <td>3vnaEaDxMKdBhqA1t0uAwl</td>\n",
              "      <td>62</td>\n",
              "      <td>75MOYjGEyyH5U4ZFHOPvxR</td>\n",
              "    </tr>\n",
              "    <tr>\n",
              "      <th>4</th>\n",
              "      <td>Lim Young Woong</td>\n",
              "      <td>Home</td>\n",
              "      <td>2PlsVMcOn6ujc2UEYs2Yat</td>\n",
              "      <td>62</td>\n",
              "      <td>75MOYjGEyyH5U4ZFHOPvxR</td>\n",
              "    </tr>\n",
              "  </tbody>\n",
              "</table>\n",
              "</div>"
            ],
            "text/plain": [
              "       artist_name track_name                track_id  track_popularity  \\\n",
              "0            Jimin        Who  7tI8dRuH2Yc6RuoTjxo4dU                92   \n",
              "1             ROSÉ       APT.  2vDkR3ctidSd17d2CygVzS                65   \n",
              "2            aespa   Whiplash  6uPnrBgweGOcwjFL4ItAvV                80   \n",
              "3  Lim Young Woong     Warmth  3vnaEaDxMKdBhqA1t0uAwl                62   \n",
              "4  Lim Young Woong       Home  2PlsVMcOn6ujc2UEYs2Yat                62   \n",
              "\n",
              "                artist_id  \n",
              "0  1oSPZhvZMIrWW5I41kPkkY  \n",
              "1  3eVa5w3URK5duf6eyVDbu9  \n",
              "2  6YVMFz59CuY7ngCxTxjpxE  \n",
              "3  75MOYjGEyyH5U4ZFHOPvxR  \n",
              "4  75MOYjGEyyH5U4ZFHOPvxR  "
            ]
          },
          "execution_count": 39,
          "metadata": {},
          "output_type": "execute_result"
        }
      ],
      "source": [
        "import pandas as pd\n",
        "df_2024_song = pd.DataFrame({\n",
        "    'artist_name': artist_name,\n",
        "    'track_name': track_name,\n",
        "    'track_id': track_id,\n",
        "    'popularity': popularity,\n",
        "    'artist_id': artist_id\n",
        "})\n",
        "print(f\"DataFrame shape: {df_2024_song.shape}\")\n",
        "df_2024_song.head()"
      ]
    },
    {
      "cell_type": "markdown",
      "metadata": {
        "id": "GgLzJADONMwu"
      },
      "source": [
        "2024년에 발표된 트랙들의 아티스트, 제목, 아이디, 인기 등의 정보를 각 리스트에 저장"
      ]
    },
    {
      "cell_type": "code",
      "execution_count": null,
      "metadata": {
        "id": "_PIoOBXvNMwu"
      },
      "outputs": [],
      "source": [
        "artist_popularity, artist_genres, artist_followers = [], [], []\n",
        "\n",
        "for a_id in df_2024_song['artist_id']:\n",
        "    artist = sp.artist(a_id)\n",
        "    artist_popularity.append(artist['popularity'])\n",
        "    artist_genres.append(artist['genres'])\n",
        "    artist_followers.append(artist['followers']['total'])"
      ]
    },
    {
      "cell_type": "markdown",
      "metadata": {
        "id": "GwXsK7baNMwu"
      },
      "source": [
        "`df_2024_song` 데이터프레임에 아티스트의 인기(`artist_popularity`), 장르(`artist_genres`), 팔로워 수(`artist_followers`) 정보를 추가"
      ]
    },
    {
      "cell_type": "code",
      "execution_count": null,
      "metadata": {
        "id": "u9IfOQvNNMwu",
        "outputId": "1c3ff442-89bf-463f-d429-c7d712d62d3e"
      },
      "outputs": [
        {
          "data": {
            "text/html": [
              "<div>\n",
              "<style scoped>\n",
              "    .dataframe tbody tr th:only-of-type {\n",
              "        vertical-align: middle;\n",
              "    }\n",
              "\n",
              "    .dataframe tbody tr th {\n",
              "        vertical-align: top;\n",
              "    }\n",
              "\n",
              "    .dataframe thead th {\n",
              "        text-align: right;\n",
              "    }\n",
              "</style>\n",
              "<table border=\"1\" class=\"dataframe\">\n",
              "  <thead>\n",
              "    <tr style=\"text-align: right;\">\n",
              "      <th></th>\n",
              "      <th>artist_name</th>\n",
              "      <th>track_name</th>\n",
              "      <th>track_id</th>\n",
              "      <th>track_popularity</th>\n",
              "      <th>artist_id</th>\n",
              "      <th>artist_popularity</th>\n",
              "      <th>artist_genres</th>\n",
              "      <th>artist_followers</th>\n",
              "    </tr>\n",
              "  </thead>\n",
              "  <tbody>\n",
              "    <tr>\n",
              "      <th>0</th>\n",
              "      <td>Jimin</td>\n",
              "      <td>Who</td>\n",
              "      <td>7tI8dRuH2Yc6RuoTjxo4dU</td>\n",
              "      <td>92</td>\n",
              "      <td>1oSPZhvZMIrWW5I41kPkkY</td>\n",
              "      <td>88</td>\n",
              "      <td>[k-pop]</td>\n",
              "      <td>9730251</td>\n",
              "    </tr>\n",
              "    <tr>\n",
              "      <th>1</th>\n",
              "      <td>ROSÉ</td>\n",
              "      <td>APT.</td>\n",
              "      <td>2vDkR3ctidSd17d2CygVzS</td>\n",
              "      <td>65</td>\n",
              "      <td>3eVa5w3URK5duf6eyVDbu9</td>\n",
              "      <td>85</td>\n",
              "      <td>[k-pop]</td>\n",
              "      <td>8127798</td>\n",
              "    </tr>\n",
              "    <tr>\n",
              "      <th>2</th>\n",
              "      <td>aespa</td>\n",
              "      <td>Whiplash</td>\n",
              "      <td>6uPnrBgweGOcwjFL4ItAvV</td>\n",
              "      <td>80</td>\n",
              "      <td>6YVMFz59CuY7ngCxTxjpxE</td>\n",
              "      <td>83</td>\n",
              "      <td>[k-pop girl group]</td>\n",
              "      <td>7122044</td>\n",
              "    </tr>\n",
              "    <tr>\n",
              "      <th>3</th>\n",
              "      <td>Lim Young Woong</td>\n",
              "      <td>Warmth</td>\n",
              "      <td>3vnaEaDxMKdBhqA1t0uAwl</td>\n",
              "      <td>62</td>\n",
              "      <td>75MOYjGEyyH5U4ZFHOPvxR</td>\n",
              "      <td>63</td>\n",
              "      <td>[trot]</td>\n",
              "      <td>100559</td>\n",
              "    </tr>\n",
              "    <tr>\n",
              "      <th>4</th>\n",
              "      <td>Lim Young Woong</td>\n",
              "      <td>Home</td>\n",
              "      <td>2PlsVMcOn6ujc2UEYs2Yat</td>\n",
              "      <td>62</td>\n",
              "      <td>75MOYjGEyyH5U4ZFHOPvxR</td>\n",
              "      <td>63</td>\n",
              "      <td>[trot]</td>\n",
              "      <td>100559</td>\n",
              "    </tr>\n",
              "  </tbody>\n",
              "</table>\n",
              "</div>"
            ],
            "text/plain": [
              "       artist_name track_name                track_id  track_popularity  \\\n",
              "0            Jimin        Who  7tI8dRuH2Yc6RuoTjxo4dU                92   \n",
              "1             ROSÉ       APT.  2vDkR3ctidSd17d2CygVzS                65   \n",
              "2            aespa   Whiplash  6uPnrBgweGOcwjFL4ItAvV                80   \n",
              "3  Lim Young Woong     Warmth  3vnaEaDxMKdBhqA1t0uAwl                62   \n",
              "4  Lim Young Woong       Home  2PlsVMcOn6ujc2UEYs2Yat                62   \n",
              "\n",
              "                artist_id  artist_popularity       artist_genres  \\\n",
              "0  1oSPZhvZMIrWW5I41kPkkY                 88             [k-pop]   \n",
              "1  3eVa5w3URK5duf6eyVDbu9                 85             [k-pop]   \n",
              "2  6YVMFz59CuY7ngCxTxjpxE                 83  [k-pop girl group]   \n",
              "3  75MOYjGEyyH5U4ZFHOPvxR                 63              [trot]   \n",
              "4  75MOYjGEyyH5U4ZFHOPvxR                 63              [trot]   \n",
              "\n",
              "   artist_followers  \n",
              "0           9730251  \n",
              "1           8127798  \n",
              "2           7122044  \n",
              "3            100559  \n",
              "4            100559  "
            ]
          },
          "execution_count": 41,
          "metadata": {},
          "output_type": "execute_result"
        }
      ],
      "source": [
        "df_2024_song['artist_popularity'] = artist_popularity\n",
        "df_2024_song['artist_genres'] = artist_genres\n",
        "df_2024_song['artist_followers'] = artist_followers\n",
        "df_2024_song.head()"
      ]
    },
    {
      "cell_type": "markdown",
      "metadata": {
        "id": "lpPDe7X9NMwu"
      },
      "source": [
        "트랙 ID에 대한 오디오 특성 데이터를 가져와 데이터프레임으로 변환"
      ]
    },
    {
      "cell_type": "code",
      "execution_count": null,
      "metadata": {
        "id": "1CAdBVuNNMwv",
        "outputId": "1eb7f0ca-8193-4dca-d124-46eb968ba3ca"
      },
      "outputs": [
        {
          "name": "stdout",
          "output_type": "stream",
          "text": [
            "   danceability  energy  key  loudness  mode  speechiness  acousticness  \\\n",
            "0         0.660   0.756    0    -3.743     0       0.0320       0.00289   \n",
            "1         0.778   0.786    0    -4.473     0       0.2590       0.02860   \n",
            "2         0.856   0.901    8    -2.954     0       0.0455       0.09430   \n",
            "3         0.354   0.232    5    -7.656     1       0.0329       0.79000   \n",
            "4         0.586   0.816    6    -4.513     1       0.0456       0.00921   \n",
            "\n",
            "   instrumentalness  liveness  valence    tempo            type  \\\n",
            "0          0.000000    0.1930    0.838  116.034  audio_features   \n",
            "1          0.000000    0.3470    0.942  149.030  audio_features   \n",
            "2          0.020600    0.0802    0.743  126.007  audio_features   \n",
            "3          0.000000    0.1270    0.342  171.198  audio_features   \n",
            "4          0.000001    0.0810    0.407  128.021  audio_features   \n",
            "\n",
            "                       id                                   uri  \\\n",
            "0  7tI8dRuH2Yc6RuoTjxo4dU  spotify:track:7tI8dRuH2Yc6RuoTjxo4dU   \n",
            "1  2vDkR3ctidSd17d2CygVzS  spotify:track:2vDkR3ctidSd17d2CygVzS   \n",
            "2  6uPnrBgweGOcwjFL4ItAvV  spotify:track:6uPnrBgweGOcwjFL4ItAvV   \n",
            "3  3vnaEaDxMKdBhqA1t0uAwl  spotify:track:3vnaEaDxMKdBhqA1t0uAwl   \n",
            "4  2PlsVMcOn6ujc2UEYs2Yat  spotify:track:2PlsVMcOn6ujc2UEYs2Yat   \n",
            "\n",
            "                                          track_href  \\\n",
            "0  https://api.spotify.com/v1/tracks/7tI8dRuH2Yc6...   \n",
            "1  https://api.spotify.com/v1/tracks/2vDkR3ctidSd...   \n",
            "2  https://api.spotify.com/v1/tracks/6uPnrBgweGOc...   \n",
            "3  https://api.spotify.com/v1/tracks/3vnaEaDxMKdB...   \n",
            "4  https://api.spotify.com/v1/tracks/2PlsVMcOn6uj...   \n",
            "\n",
            "                                        analysis_url  duration_ms  \\\n",
            "0  https://api.spotify.com/v1/audio-analysis/7tI8...       170888   \n",
            "1  https://api.spotify.com/v1/audio-analysis/2vDk...       169917   \n",
            "2  https://api.spotify.com/v1/audio-analysis/6uPn...       183227   \n",
            "3  https://api.spotify.com/v1/audio-analysis/3vna...       235053   \n",
            "4  https://api.spotify.com/v1/audio-analysis/2Pls...       235333   \n",
            "\n",
            "   time_signature  \n",
            "0               4  \n",
            "1               4  \n",
            "2               4  \n",
            "3               4  \n",
            "4               4  \n"
          ]
        }
      ],
      "source": [
        "track_features = [\n",
        "    feature for t_id in track_df['track_id']\n",
        "    for feature in sp.audio_features(t_id) or []  # None일 경우 빈 리스트 처리\n",
        "]\n",
        "\n",
        "# 데이터프레임 생성 및 병합\n",
        "columns = [\n",
        "    'danceability', 'energy', 'key', 'loudness', 'mode', 'speechiness',\n",
        "    'acousticness', 'instrumentalness', 'liveness', 'valence', 'tempo',\n",
        "    'type', 'id', 'uri', 'track_href', 'analysis_url', 'duration_ms', 'time_signature'\n",
        "]\n",
        "\n",
        "# track_features를 한 번에 데이터프레임으로 변환\n",
        "df_2024_feature = pd.DataFrame(track_features, columns=columns)\n",
        "\n",
        "# 데이터 확인\n",
        "df_2024_feature.head()"
      ]
    },
    {
      "cell_type": "markdown",
      "metadata": {
        "id": "2HfYMwPCNMwv"
      },
      "source": [
        "`df_2024_feature` 데이터프레임에서 불필요한 열(`key`, `mode`, `type`, `uri`, `track_href`, `analysis_url`)을 삭제"
      ]
    },
    {
      "cell_type": "code",
      "execution_count": null,
      "metadata": {
        "id": "m4sTY-puNMwv",
        "outputId": "2cdf6faf-cfd2-483c-e0b6-70c1a388c329"
      },
      "outputs": [
        {
          "name": "stdout",
          "output_type": "stream",
          "text": [
            "<class 'pandas.core.frame.DataFrame'>\n",
            "RangeIndex: 1000 entries, 0 to 999\n",
            "Data columns (total 8 columns):\n",
            " #   Column             Non-Null Count  Dtype \n",
            "---  ------             --------------  ----- \n",
            " 0   artist_name        1000 non-null   object\n",
            " 1   track_name         1000 non-null   object\n",
            " 2   track_id           1000 non-null   object\n",
            " 3   track_popularity   1000 non-null   int64 \n",
            " 4   artist_id          1000 non-null   object\n",
            " 5   artist_popularity  1000 non-null   int64 \n",
            " 6   artist_genres      1000 non-null   object\n",
            " 7   artist_followers   1000 non-null   int64 \n",
            "dtypes: int64(3), object(5)\n",
            "memory usage: 62.6+ KB\n",
            "None\n",
            "<class 'pandas.core.frame.DataFrame'>\n",
            "RangeIndex: 1000 entries, 0 to 999\n",
            "Data columns (total 12 columns):\n",
            " #   Column            Non-Null Count  Dtype  \n",
            "---  ------            --------------  -----  \n",
            " 0   danceability      1000 non-null   float64\n",
            " 1   energy            1000 non-null   float64\n",
            " 2   loudness          1000 non-null   float64\n",
            " 3   speechiness       1000 non-null   float64\n",
            " 4   acousticness      1000 non-null   float64\n",
            " 5   instrumentalness  1000 non-null   float64\n",
            " 6   liveness          1000 non-null   float64\n",
            " 7   valence           1000 non-null   float64\n",
            " 8   tempo             1000 non-null   float64\n",
            " 9   id                1000 non-null   object \n",
            " 10  duration_ms       1000 non-null   int64  \n",
            " 11  time_signature    1000 non-null   int64  \n",
            "dtypes: float64(9), int64(2), object(1)\n",
            "memory usage: 93.9+ KB\n",
            "None\n"
          ]
        }
      ],
      "source": [
        "cols_to_drop = ['key', 'mode', 'type', 'uri', 'track_href', 'analysis_url']\n",
        "df_2024_feature.drop(columns=cols_to_drop, inplace=True)\n",
        "\n",
        "\n",
        "print(df_2024_song.info())\n",
        "print(df_2024_feature.info())"
      ]
    },
    {
      "cell_type": "markdown",
      "metadata": {
        "id": "DNCNmwggNMwv"
      },
      "source": [
        "`df_2024_feature`와 `df_2024_song` 데이터프레임을 `track_id`와 `id` 컬럼을 기준으로 병합하고, 병합된 데이터프레임에서 불필요한 `id` 컬럼을 제거"
      ]
    },
    {
      "cell_type": "code",
      "execution_count": null,
      "metadata": {
        "id": "pPNVrsinNMwv",
        "outputId": "d1869896-b76e-4ce0-8db7-4f81dd9dd86c"
      },
      "outputs": [
        {
          "name": "stdout",
          "output_type": "stream",
          "text": [
            "       artist_name track_name                track_id  track_popularity  \\\n",
            "0            Jimin        Who  7tI8dRuH2Yc6RuoTjxo4dU                92   \n",
            "1             ROSÉ       APT.  2vDkR3ctidSd17d2CygVzS                65   \n",
            "2            aespa   Whiplash  6uPnrBgweGOcwjFL4ItAvV                80   \n",
            "3  Lim Young Woong     Warmth  3vnaEaDxMKdBhqA1t0uAwl                62   \n",
            "4  Lim Young Woong       Home  2PlsVMcOn6ujc2UEYs2Yat                62   \n",
            "\n",
            "                artist_id  artist_popularity       artist_genres  \\\n",
            "0  1oSPZhvZMIrWW5I41kPkkY                 88             [k-pop]   \n",
            "1  3eVa5w3URK5duf6eyVDbu9                 85             [k-pop]   \n",
            "2  6YVMFz59CuY7ngCxTxjpxE                 83  [k-pop girl group]   \n",
            "3  75MOYjGEyyH5U4ZFHOPvxR                 63              [trot]   \n",
            "4  75MOYjGEyyH5U4ZFHOPvxR                 63              [trot]   \n",
            "\n",
            "   artist_followers  danceability  energy  loudness  speechiness  \\\n",
            "0           9730251         0.660   0.756    -3.743       0.0320   \n",
            "1           8127798         0.778   0.786    -4.473       0.2590   \n",
            "2           7122044         0.856   0.901    -2.954       0.0455   \n",
            "3            100559         0.354   0.232    -7.656       0.0329   \n",
            "4            100559         0.586   0.816    -4.513       0.0456   \n",
            "\n",
            "   acousticness  instrumentalness  liveness  valence    tempo  duration_ms  \\\n",
            "0       0.00289          0.000000    0.1930    0.838  116.034       170888   \n",
            "1       0.02860          0.000000    0.3470    0.942  149.030       169917   \n",
            "2       0.09430          0.020600    0.0802    0.743  126.007       183227   \n",
            "3       0.79000          0.000000    0.1270    0.342  171.198       235053   \n",
            "4       0.00921          0.000001    0.0810    0.407  128.021       235333   \n",
            "\n",
            "  time_signature  \n",
            "0              4  \n",
            "1              4  \n",
            "2              4  \n",
            "3              4  \n",
            "4              4  \n",
            "병합된 데이터가 'final_1000_features.csv'로 저장되었습니다!\n"
          ]
        }
      ],
      "source": [
        "# track_df와 tf_df를 'track_id'와 'id' 컬럼을 기준으로 병합\n",
        "feature_df = pd.merge(df_2024_song, df_2024_feature, left_on='track_id', right_on='id', how='inner')\n",
        "\n",
        "# 'id' 컬럼은 불필요하므로 제거\n",
        "feature_df = feature_df.drop(columns=['id'])\n",
        "\n",
        "# 병합된 DataFrame 확인\n",
        "print(feature_df.head())\n",
        "\n",
        "# CSV 파일로 저장\n",
        "output_file = \"final_1000_features.csv\"\n",
        "feature_df.to_csv(output_file, index=False, encoding='utf-8')\n",
        "print(f\"병합된 데이터가 '{output_file}'로 저장되었습니다!\")\n"
      ]
    },
    {
      "cell_type": "markdown",
      "metadata": {
        "id": "G2HX-fJwNMwv"
      },
      "source": [
        "2024년 발매된 노래들중 popularity 상위 20곡"
      ]
    },
    {
      "cell_type": "code",
      "execution_count": null,
      "metadata": {
        "id": "wYezixBYNMwv",
        "outputId": "6da2dd93-5d32-4ca1-9539-b2512595e662"
      },
      "outputs": [
        {
          "data": {
            "text/html": [
              "<div>\n",
              "<style scoped>\n",
              "    .dataframe tbody tr th:only-of-type {\n",
              "        vertical-align: middle;\n",
              "    }\n",
              "\n",
              "    .dataframe tbody tr th {\n",
              "        vertical-align: top;\n",
              "    }\n",
              "\n",
              "    .dataframe thead th {\n",
              "        text-align: right;\n",
              "    }\n",
              "</style>\n",
              "<table border=\"1\" class=\"dataframe\">\n",
              "  <thead>\n",
              "    <tr style=\"text-align: right;\">\n",
              "      <th></th>\n",
              "      <th>track_name</th>\n",
              "      <th>artist_name</th>\n",
              "    </tr>\n",
              "  </thead>\n",
              "  <tbody>\n",
              "    <tr>\n",
              "      <th>18</th>\n",
              "      <td>Die With A Smile</td>\n",
              "      <td>Lady Gaga</td>\n",
              "    </tr>\n",
              "    <tr>\n",
              "      <th>35</th>\n",
              "      <td>BIRDS OF A FEATHER</td>\n",
              "      <td>Billie Eilish</td>\n",
              "    </tr>\n",
              "    <tr>\n",
              "      <th>260</th>\n",
              "      <td>That’s So True</td>\n",
              "      <td>Gracie Abrams</td>\n",
              "    </tr>\n",
              "    <tr>\n",
              "      <th>118</th>\n",
              "      <td>Good Luck, Babe!</td>\n",
              "      <td>Chappell Roan</td>\n",
              "    </tr>\n",
              "    <tr>\n",
              "      <th>331</th>\n",
              "      <td>Sailor Song</td>\n",
              "      <td>Gigi Perez</td>\n",
              "    </tr>\n",
              "    <tr>\n",
              "      <th>128</th>\n",
              "      <td>Taste</td>\n",
              "      <td>Sabrina Carpenter</td>\n",
              "    </tr>\n",
              "    <tr>\n",
              "      <th>181</th>\n",
              "      <td>WILDFLOWER</td>\n",
              "      <td>Billie Eilish</td>\n",
              "    </tr>\n",
              "    <tr>\n",
              "      <th>648</th>\n",
              "      <td>Si Antes Te Hubiera Conocido</td>\n",
              "      <td>KAROL G</td>\n",
              "    </tr>\n",
              "    <tr>\n",
              "      <th>0</th>\n",
              "      <td>Who</td>\n",
              "      <td>Jimin</td>\n",
              "    </tr>\n",
              "    <tr>\n",
              "      <th>132</th>\n",
              "      <td>Timeless (with Playboi Carti)</td>\n",
              "      <td>The Weeknd</td>\n",
              "    </tr>\n",
              "    <tr>\n",
              "      <th>163</th>\n",
              "      <td>St. Chroma (feat. Daniel Caesar)</td>\n",
              "      <td>Tyler, The Creator</td>\n",
              "    </tr>\n",
              "    <tr>\n",
              "      <th>161</th>\n",
              "      <td>Espresso</td>\n",
              "      <td>Sabrina Carpenter</td>\n",
              "    </tr>\n",
              "    <tr>\n",
              "      <th>383</th>\n",
              "      <td>I Love You, I'm Sorry</td>\n",
              "      <td>Gracie Abrams</td>\n",
              "    </tr>\n",
              "    <tr>\n",
              "      <th>196</th>\n",
              "      <td>Bed Chem</td>\n",
              "      <td>Sabrina Carpenter</td>\n",
              "    </tr>\n",
              "    <tr>\n",
              "      <th>65</th>\n",
              "      <td>Moonlit Floor (Kiss Me)</td>\n",
              "      <td>LISA</td>\n",
              "    </tr>\n",
              "    <tr>\n",
              "      <th>465</th>\n",
              "      <td>The Emptiness Machine</td>\n",
              "      <td>Linkin Park</td>\n",
              "    </tr>\n",
              "    <tr>\n",
              "      <th>227</th>\n",
              "      <td>Beautiful Things</td>\n",
              "      <td>Benson Boone</td>\n",
              "    </tr>\n",
              "    <tr>\n",
              "      <th>193</th>\n",
              "      <td>Not Like Us</td>\n",
              "      <td>Kendrick Lamar</td>\n",
              "    </tr>\n",
              "    <tr>\n",
              "      <th>493</th>\n",
              "      <td>Stargazing</td>\n",
              "      <td>Myles Smith</td>\n",
              "    </tr>\n",
              "    <tr>\n",
              "      <th>440</th>\n",
              "      <td>CHIHIRO</td>\n",
              "      <td>Billie Eilish</td>\n",
              "    </tr>\n",
              "  </tbody>\n",
              "</table>\n",
              "</div>"
            ],
            "text/plain": [
              "                           track_name         artist_name\n",
              "18                   Die With A Smile           Lady Gaga\n",
              "35                 BIRDS OF A FEATHER       Billie Eilish\n",
              "260                    That’s So True       Gracie Abrams\n",
              "118                  Good Luck, Babe!       Chappell Roan\n",
              "331                       Sailor Song          Gigi Perez\n",
              "128                             Taste   Sabrina Carpenter\n",
              "181                        WILDFLOWER       Billie Eilish\n",
              "648      Si Antes Te Hubiera Conocido             KAROL G\n",
              "0                                 Who               Jimin\n",
              "132     Timeless (with Playboi Carti)          The Weeknd\n",
              "163  St. Chroma (feat. Daniel Caesar)  Tyler, The Creator\n",
              "161                          Espresso   Sabrina Carpenter\n",
              "383             I Love You, I'm Sorry       Gracie Abrams\n",
              "196                          Bed Chem   Sabrina Carpenter\n",
              "65            Moonlit Floor (Kiss Me)                LISA\n",
              "465             The Emptiness Machine         Linkin Park\n",
              "227                  Beautiful Things        Benson Boone\n",
              "193                       Not Like Us      Kendrick Lamar\n",
              "493                        Stargazing         Myles Smith\n",
              "440                           CHIHIRO       Billie Eilish"
            ]
          },
          "execution_count": 59,
          "metadata": {},
          "output_type": "execute_result"
        }
      ],
      "source": [
        "feature_df.sort_values(by=['track_popularity'], ascending=False)[['track_name', 'artist_name']].head(20)\n"
      ]
    },
    {
      "cell_type": "markdown",
      "metadata": {
        "id": "2j0eErHoNMwv"
      },
      "source": [
        "장르별 관계된 아티스트 수"
      ]
    },
    {
      "cell_type": "code",
      "execution_count": null,
      "metadata": {
        "id": "vXoCSxSONMwv",
        "outputId": "bb2fce88-b821-48e8-a45e-efab487b947c"
      },
      "outputs": [
        {
          "data": {
            "text/plain": [
              "k-pop                       259\n",
              "pop                         118\n",
              "5th gen k-pop               113\n",
              "k-pop boy group             102\n",
              "k-pop girl group             86\n",
              "rap                          61\n",
              "hip hop                      47\n",
              "korean pop                   33\n",
              "k-rap                        33\n",
              "j-pop                        32\n",
              "anime                        28\n",
              "viral pop                    27\n",
              "canadian pop                 27\n",
              "west coast rap               25\n",
              "conscious hip hop            25\n",
              "art pop                      22\n",
              "korean r&b                   19\n",
              "korean singer-songwriter     18\n",
              "k-pop ballad                 17\n",
              "singer-songwriter pop        15\n",
              "Name: count, dtype: int64"
            ]
          },
          "execution_count": 60,
          "metadata": {},
          "output_type": "execute_result"
        }
      ],
      "source": [
        "def to_1D(series):\n",
        "    return pd.Series([x for _list in series for x in _list])\n",
        "to_1D(feature_df['artist_genres']).value_counts().head(20)"
      ]
    }
  ],
  "metadata": {
    "kernelspec": {
      "display_name": "pythonProject",
      "language": "python",
      "name": "python3"
    },
    "language_info": {
      "codemirror_mode": {
        "name": "ipython",
        "version": 3
      },
      "file_extension": ".py",
      "mimetype": "text/x-python",
      "name": "python",
      "nbconvert_exporter": "python",
      "pygments_lexer": "ipython3",
      "version": "3.11.8"
    },
    "colab": {
      "provenance": []
    }
  },
  "nbformat": 4,
  "nbformat_minor": 0
}