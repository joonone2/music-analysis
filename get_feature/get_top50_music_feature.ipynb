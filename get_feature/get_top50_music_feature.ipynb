{
  "cells": [
    {
      "cell_type": "markdown",
      "metadata": {
        "id": "KEMgCqWUTD2w"
      },
      "source": [
        "## **Top50곡들의 특성 가져오기**"
      ]
    },
    {
      "cell_type": "markdown",
      "source": [
        "Spotify API를 사용해 플레이리스트를 분석하기 위한 초기 설정\n"
      ],
      "metadata": {
        "id": "xi6HA2_uUIEP"
      }
    },
    {
      "cell_type": "code",
      "execution_count": null,
      "metadata": {
        "id": "qAkWQA0nTD2x"
      },
      "outputs": [],
      "source": [
        "from spotify_analyzer import SpotifyPlaylistAnalyzer\n",
        "import os\n",
        "import pandas as pd"
      ]
    },
    {
      "cell_type": "code",
      "execution_count": null,
      "metadata": {
        "id": "pwQYpvrMTD2x"
      },
      "outputs": [],
      "source": [
        "CLIENT_ID = ''\n",
        "CLIENT_SECRET = ''\n",
        "REDIRECT_URI = 'http://localhost:8888/callback'\n"
      ]
    },
    {
      "cell_type": "code",
      "execution_count": null,
      "metadata": {
        "id": "L3C18RltTD2y"
      },
      "outputs": [],
      "source": [
        "analyzer = SpotifyPlaylistAnalyzer(\n",
        "    client_id=CLIENT_ID,\n",
        "    client_secret=CLIENT_SECRET,\n",
        "    redirect_uri=REDIRECT_URI\n",
        ")\n"
      ]
    },
    {
      "cell_type": "markdown",
      "metadata": {
        "id": "1AXHw4ooTD2y"
      },
      "source": [
        "Global Top50 음악데이터 가져오기  \n",
        "(플레이리스트 id로 접근)"
      ]
    },
    {
      "cell_type": "code",
      "execution_count": null,
      "metadata": {
        "id": "rc4N2nb5TD2y",
        "outputId": "324801e4-bf12-4314-db7c-89149b233c1f"
      },
      "outputs": [
        {
          "name": "stdout",
          "output_type": "stream",
          "text": [
            "데이터가 global_analysis.csv로 저장되었습니다!\n"
          ]
        }
      ],
      "source": [
        "playlist_id = '37i9dQZEVXbMDoHDwVN2tF'  # Top 50 Global\n",
        "df = analyzer.analyze_playlist(\n",
        "    playlist_id=playlist_id,\n",
        "    output_file='global_analysis.csv'\n",
        ")"
      ]
    },
    {
      "cell_type": "markdown",
      "metadata": {
        "id": "NOUJGAzRTD2y"
      },
      "source": [
        "데이터프레임 확인"
      ]
    },
    {
      "cell_type": "code",
      "execution_count": null,
      "metadata": {
        "id": "ctbXxPwGTD2y",
        "outputId": "e070b9c3-baff-4b62-d366-50004004a1d9"
      },
      "outputs": [
        {
          "name": "stdout",
          "output_type": "stream",
          "text": [
            "          track_name     artist_name                track_id  popularity  \\\n",
            "0               APT.            ROSÉ  2vDkR3ctidSd17d2CygVzS          65   \n",
            "1   Die With A Smile       Lady Gaga  2plbrEY59IikOBgBGLjaoe         100   \n",
            "2        squabble up  Kendrick Lamar  0nj9Bq5sHDiTxSHunhgkFb          75   \n",
            "3  luther (with sza)  Kendrick Lamar  2CGNAOSuO1MEFCbBRgUzjd          32   \n",
            "4  wacced out murals  Kendrick Lamar  5gOfC9UzZQzTyShqPMrpjT          75   \n",
            "\n",
            "                                            genres  danceability  energy  \\\n",
            "0                                            k-pop         0.778   0.786   \n",
            "1                          art pop, dance pop, pop         0.521   0.592   \n",
            "2  conscious hip hop, hip hop, rap, west coast rap         0.874   0.672   \n",
            "3  conscious hip hop, hip hop, rap, west coast rap         0.707   0.575   \n",
            "4  conscious hip hop, hip hop, rap, west coast rap         0.761   0.501   \n",
            "\n",
            "   valence    tempo  acousticness  instrumentalness  liveness  loudness  \\\n",
            "0    0.942  149.030        0.0286               0.0    0.3470    -4.473   \n",
            "1    0.535  157.969        0.3080               0.0    0.1220    -7.777   \n",
            "2    0.711  103.921        0.0206               0.0    0.0783    -5.568   \n",
            "3    0.576  138.008        0.2510               0.0    0.2480    -7.546   \n",
            "4    0.502   81.998        0.2490               0.0    0.1360   -10.759   \n",
            "\n",
            "   speechiness  key  mode  time_signature  \n",
            "0       0.2590    0     0               4  \n",
            "1       0.0304    6     0               3  \n",
            "2       0.1980    0     1               4  \n",
            "3       0.1250    2     1               4  \n",
            "4       0.4590    9     0               4  \n"
          ]
        }
      ],
      "source": [
        "print(df.head())"
      ]
    }
  ],
  "metadata": {
    "kernelspec": {
      "display_name": "pythonProject",
      "language": "python",
      "name": "python3"
    },
    "language_info": {
      "codemirror_mode": {
        "name": "ipython",
        "version": 3
      },
      "file_extension": ".py",
      "mimetype": "text/x-python",
      "name": "python",
      "nbconvert_exporter": "python",
      "pygments_lexer": "ipython3",
      "version": "3.11.8"
    },
    "colab": {
      "provenance": []
    }
  },
  "nbformat": 4,
  "nbformat_minor": 0
}